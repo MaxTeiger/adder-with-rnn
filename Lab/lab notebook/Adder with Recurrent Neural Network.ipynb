{
 "cells": [
  {
   "cell_type": "markdown",
   "metadata": {},
   "source": [
    "## Imports"
   ]
  },
  {
   "cell_type": "code",
   "execution_count": 1,
   "metadata": {},
   "outputs": [],
   "source": [
    "import pandas as pd\n",
    "import numpy as np\n",
    "import random as rd\n",
    "import matplotlib.pyplot as plt"
   ]
  },
  {
   "cell_type": "code",
   "execution_count": 2,
   "metadata": {},
   "outputs": [
    {
     "data": {
      "application/javascript": [
       "IPython.notebook.set_autosave_interval(180000)"
      ]
     },
     "metadata": {},
     "output_type": "display_data"
    },
    {
     "name": "stdout",
     "output_type": "stream",
     "text": [
      "Autosaving every 180 seconds\n"
     ]
    }
   ],
   "source": [
    "%autosave 180"
   ]
  },
  {
   "cell_type": "markdown",
   "metadata": {},
   "source": [
    "## Generate the dataset"
   ]
  },
  {
   "cell_type": "code",
   "execution_count": 3,
   "metadata": {},
   "outputs": [
    {
     "data": {
      "text/html": [
       "<div>\n",
       "<style scoped>\n",
       "    .dataframe tbody tr th:only-of-type {\n",
       "        vertical-align: middle;\n",
       "    }\n",
       "\n",
       "    .dataframe tbody tr th {\n",
       "        vertical-align: top;\n",
       "    }\n",
       "\n",
       "    .dataframe thead th {\n",
       "        text-align: right;\n",
       "    }\n",
       "</style>\n",
       "<table border=\"1\" class=\"dataframe\">\n",
       "  <thead>\n",
       "    <tr style=\"text-align: right;\">\n",
       "      <th></th>\n",
       "      <th>x1</th>\n",
       "      <th>x2</th>\n",
       "      <th>x3</th>\n",
       "      <th>x4</th>\n",
       "      <th>x5</th>\n",
       "      <th>x6</th>\n",
       "      <th>x7</th>\n",
       "      <th>x8</th>\n",
       "      <th>y</th>\n",
       "    </tr>\n",
       "  </thead>\n",
       "  <tbody>\n",
       "    <tr>\n",
       "      <th>0</th>\n",
       "      <td>1</td>\n",
       "      <td>0</td>\n",
       "      <td>1</td>\n",
       "      <td>1</td>\n",
       "      <td>0</td>\n",
       "      <td>0</td>\n",
       "      <td>0</td>\n",
       "      <td>0</td>\n",
       "      <td>3</td>\n",
       "    </tr>\n",
       "    <tr>\n",
       "      <th>1</th>\n",
       "      <td>0</td>\n",
       "      <td>1</td>\n",
       "      <td>1</td>\n",
       "      <td>0</td>\n",
       "      <td>1</td>\n",
       "      <td>1</td>\n",
       "      <td>1</td>\n",
       "      <td>0</td>\n",
       "      <td>5</td>\n",
       "    </tr>\n",
       "    <tr>\n",
       "      <th>2</th>\n",
       "      <td>0</td>\n",
       "      <td>1</td>\n",
       "      <td>0</td>\n",
       "      <td>1</td>\n",
       "      <td>0</td>\n",
       "      <td>1</td>\n",
       "      <td>1</td>\n",
       "      <td>1</td>\n",
       "      <td>5</td>\n",
       "    </tr>\n",
       "    <tr>\n",
       "      <th>3</th>\n",
       "      <td>1</td>\n",
       "      <td>0</td>\n",
       "      <td>0</td>\n",
       "      <td>1</td>\n",
       "      <td>1</td>\n",
       "      <td>1</td>\n",
       "      <td>1</td>\n",
       "      <td>0</td>\n",
       "      <td>5</td>\n",
       "    </tr>\n",
       "    <tr>\n",
       "      <th>4</th>\n",
       "      <td>0</td>\n",
       "      <td>1</td>\n",
       "      <td>1</td>\n",
       "      <td>0</td>\n",
       "      <td>0</td>\n",
       "      <td>0</td>\n",
       "      <td>0</td>\n",
       "      <td>0</td>\n",
       "      <td>2</td>\n",
       "    </tr>\n",
       "    <tr>\n",
       "      <th>5</th>\n",
       "      <td>1</td>\n",
       "      <td>0</td>\n",
       "      <td>0</td>\n",
       "      <td>1</td>\n",
       "      <td>1</td>\n",
       "      <td>0</td>\n",
       "      <td>1</td>\n",
       "      <td>0</td>\n",
       "      <td>4</td>\n",
       "    </tr>\n",
       "    <tr>\n",
       "      <th>6</th>\n",
       "      <td>0</td>\n",
       "      <td>1</td>\n",
       "      <td>1</td>\n",
       "      <td>0</td>\n",
       "      <td>0</td>\n",
       "      <td>1</td>\n",
       "      <td>1</td>\n",
       "      <td>1</td>\n",
       "      <td>5</td>\n",
       "    </tr>\n",
       "    <tr>\n",
       "      <th>7</th>\n",
       "      <td>0</td>\n",
       "      <td>0</td>\n",
       "      <td>1</td>\n",
       "      <td>0</td>\n",
       "      <td>0</td>\n",
       "      <td>1</td>\n",
       "      <td>0</td>\n",
       "      <td>0</td>\n",
       "      <td>2</td>\n",
       "    </tr>\n",
       "    <tr>\n",
       "      <th>8</th>\n",
       "      <td>0</td>\n",
       "      <td>1</td>\n",
       "      <td>0</td>\n",
       "      <td>0</td>\n",
       "      <td>0</td>\n",
       "      <td>0</td>\n",
       "      <td>0</td>\n",
       "      <td>0</td>\n",
       "      <td>1</td>\n",
       "    </tr>\n",
       "    <tr>\n",
       "      <th>9</th>\n",
       "      <td>0</td>\n",
       "      <td>0</td>\n",
       "      <td>0</td>\n",
       "      <td>0</td>\n",
       "      <td>0</td>\n",
       "      <td>1</td>\n",
       "      <td>0</td>\n",
       "      <td>1</td>\n",
       "      <td>2</td>\n",
       "    </tr>\n",
       "    <tr>\n",
       "      <th>10</th>\n",
       "      <td>1</td>\n",
       "      <td>1</td>\n",
       "      <td>0</td>\n",
       "      <td>1</td>\n",
       "      <td>0</td>\n",
       "      <td>0</td>\n",
       "      <td>1</td>\n",
       "      <td>0</td>\n",
       "      <td>4</td>\n",
       "    </tr>\n",
       "    <tr>\n",
       "      <th>11</th>\n",
       "      <td>0</td>\n",
       "      <td>1</td>\n",
       "      <td>1</td>\n",
       "      <td>0</td>\n",
       "      <td>0</td>\n",
       "      <td>1</td>\n",
       "      <td>1</td>\n",
       "      <td>1</td>\n",
       "      <td>5</td>\n",
       "    </tr>\n",
       "    <tr>\n",
       "      <th>12</th>\n",
       "      <td>0</td>\n",
       "      <td>0</td>\n",
       "      <td>0</td>\n",
       "      <td>0</td>\n",
       "      <td>1</td>\n",
       "      <td>1</td>\n",
       "      <td>0</td>\n",
       "      <td>0</td>\n",
       "      <td>2</td>\n",
       "    </tr>\n",
       "    <tr>\n",
       "      <th>13</th>\n",
       "      <td>1</td>\n",
       "      <td>1</td>\n",
       "      <td>0</td>\n",
       "      <td>0</td>\n",
       "      <td>1</td>\n",
       "      <td>1</td>\n",
       "      <td>1</td>\n",
       "      <td>1</td>\n",
       "      <td>6</td>\n",
       "    </tr>\n",
       "    <tr>\n",
       "      <th>14</th>\n",
       "      <td>0</td>\n",
       "      <td>1</td>\n",
       "      <td>0</td>\n",
       "      <td>1</td>\n",
       "      <td>1</td>\n",
       "      <td>0</td>\n",
       "      <td>1</td>\n",
       "      <td>0</td>\n",
       "      <td>4</td>\n",
       "    </tr>\n",
       "    <tr>\n",
       "      <th>15</th>\n",
       "      <td>1</td>\n",
       "      <td>0</td>\n",
       "      <td>1</td>\n",
       "      <td>0</td>\n",
       "      <td>1</td>\n",
       "      <td>0</td>\n",
       "      <td>0</td>\n",
       "      <td>0</td>\n",
       "      <td>3</td>\n",
       "    </tr>\n",
       "    <tr>\n",
       "      <th>16</th>\n",
       "      <td>1</td>\n",
       "      <td>0</td>\n",
       "      <td>1</td>\n",
       "      <td>0</td>\n",
       "      <td>0</td>\n",
       "      <td>0</td>\n",
       "      <td>1</td>\n",
       "      <td>0</td>\n",
       "      <td>3</td>\n",
       "    </tr>\n",
       "    <tr>\n",
       "      <th>17</th>\n",
       "      <td>1</td>\n",
       "      <td>0</td>\n",
       "      <td>1</td>\n",
       "      <td>1</td>\n",
       "      <td>0</td>\n",
       "      <td>0</td>\n",
       "      <td>1</td>\n",
       "      <td>0</td>\n",
       "      <td>4</td>\n",
       "    </tr>\n",
       "    <tr>\n",
       "      <th>18</th>\n",
       "      <td>1</td>\n",
       "      <td>1</td>\n",
       "      <td>0</td>\n",
       "      <td>0</td>\n",
       "      <td>1</td>\n",
       "      <td>0</td>\n",
       "      <td>0</td>\n",
       "      <td>0</td>\n",
       "      <td>3</td>\n",
       "    </tr>\n",
       "    <tr>\n",
       "      <th>19</th>\n",
       "      <td>1</td>\n",
       "      <td>0</td>\n",
       "      <td>0</td>\n",
       "      <td>1</td>\n",
       "      <td>0</td>\n",
       "      <td>1</td>\n",
       "      <td>0</td>\n",
       "      <td>1</td>\n",
       "      <td>4</td>\n",
       "    </tr>\n",
       "    <tr>\n",
       "      <th>20</th>\n",
       "      <td>0</td>\n",
       "      <td>0</td>\n",
       "      <td>1</td>\n",
       "      <td>1</td>\n",
       "      <td>0</td>\n",
       "      <td>0</td>\n",
       "      <td>0</td>\n",
       "      <td>1</td>\n",
       "      <td>3</td>\n",
       "    </tr>\n",
       "    <tr>\n",
       "      <th>21</th>\n",
       "      <td>1</td>\n",
       "      <td>0</td>\n",
       "      <td>0</td>\n",
       "      <td>0</td>\n",
       "      <td>1</td>\n",
       "      <td>0</td>\n",
       "      <td>1</td>\n",
       "      <td>1</td>\n",
       "      <td>4</td>\n",
       "    </tr>\n",
       "    <tr>\n",
       "      <th>22</th>\n",
       "      <td>0</td>\n",
       "      <td>0</td>\n",
       "      <td>0</td>\n",
       "      <td>1</td>\n",
       "      <td>1</td>\n",
       "      <td>0</td>\n",
       "      <td>0</td>\n",
       "      <td>1</td>\n",
       "      <td>3</td>\n",
       "    </tr>\n",
       "    <tr>\n",
       "      <th>23</th>\n",
       "      <td>1</td>\n",
       "      <td>0</td>\n",
       "      <td>0</td>\n",
       "      <td>0</td>\n",
       "      <td>0</td>\n",
       "      <td>0</td>\n",
       "      <td>0</td>\n",
       "      <td>0</td>\n",
       "      <td>1</td>\n",
       "    </tr>\n",
       "    <tr>\n",
       "      <th>24</th>\n",
       "      <td>0</td>\n",
       "      <td>1</td>\n",
       "      <td>1</td>\n",
       "      <td>0</td>\n",
       "      <td>1</td>\n",
       "      <td>1</td>\n",
       "      <td>0</td>\n",
       "      <td>1</td>\n",
       "      <td>5</td>\n",
       "    </tr>\n",
       "    <tr>\n",
       "      <th>25</th>\n",
       "      <td>1</td>\n",
       "      <td>1</td>\n",
       "      <td>1</td>\n",
       "      <td>0</td>\n",
       "      <td>0</td>\n",
       "      <td>0</td>\n",
       "      <td>1</td>\n",
       "      <td>0</td>\n",
       "      <td>4</td>\n",
       "    </tr>\n",
       "    <tr>\n",
       "      <th>26</th>\n",
       "      <td>1</td>\n",
       "      <td>0</td>\n",
       "      <td>0</td>\n",
       "      <td>0</td>\n",
       "      <td>0</td>\n",
       "      <td>1</td>\n",
       "      <td>0</td>\n",
       "      <td>1</td>\n",
       "      <td>3</td>\n",
       "    </tr>\n",
       "    <tr>\n",
       "      <th>27</th>\n",
       "      <td>1</td>\n",
       "      <td>0</td>\n",
       "      <td>0</td>\n",
       "      <td>0</td>\n",
       "      <td>0</td>\n",
       "      <td>0</td>\n",
       "      <td>0</td>\n",
       "      <td>1</td>\n",
       "      <td>2</td>\n",
       "    </tr>\n",
       "    <tr>\n",
       "      <th>28</th>\n",
       "      <td>0</td>\n",
       "      <td>0</td>\n",
       "      <td>1</td>\n",
       "      <td>0</td>\n",
       "      <td>1</td>\n",
       "      <td>0</td>\n",
       "      <td>1</td>\n",
       "      <td>1</td>\n",
       "      <td>4</td>\n",
       "    </tr>\n",
       "    <tr>\n",
       "      <th>29</th>\n",
       "      <td>1</td>\n",
       "      <td>1</td>\n",
       "      <td>0</td>\n",
       "      <td>0</td>\n",
       "      <td>0</td>\n",
       "      <td>1</td>\n",
       "      <td>0</td>\n",
       "      <td>0</td>\n",
       "      <td>3</td>\n",
       "    </tr>\n",
       "  </tbody>\n",
       "</table>\n",
       "</div>"
      ],
      "text/plain": [
       "    x1  x2  x3  x4  x5  x6  x7  x8  y\n",
       "0    1   0   1   1   0   0   0   0  3\n",
       "1    0   1   1   0   1   1   1   0  5\n",
       "2    0   1   0   1   0   1   1   1  5\n",
       "3    1   0   0   1   1   1   1   0  5\n",
       "4    0   1   1   0   0   0   0   0  2\n",
       "5    1   0   0   1   1   0   1   0  4\n",
       "6    0   1   1   0   0   1   1   1  5\n",
       "7    0   0   1   0   0   1   0   0  2\n",
       "8    0   1   0   0   0   0   0   0  1\n",
       "9    0   0   0   0   0   1   0   1  2\n",
       "10   1   1   0   1   0   0   1   0  4\n",
       "11   0   1   1   0   0   1   1   1  5\n",
       "12   0   0   0   0   1   1   0   0  2\n",
       "13   1   1   0   0   1   1   1   1  6\n",
       "14   0   1   0   1   1   0   1   0  4\n",
       "15   1   0   1   0   1   0   0   0  3\n",
       "16   1   0   1   0   0   0   1   0  3\n",
       "17   1   0   1   1   0   0   1   0  4\n",
       "18   1   1   0   0   1   0   0   0  3\n",
       "19   1   0   0   1   0   1   0   1  4\n",
       "20   0   0   1   1   0   0   0   1  3\n",
       "21   1   0   0   0   1   0   1   1  4\n",
       "22   0   0   0   1   1   0   0   1  3\n",
       "23   1   0   0   0   0   0   0   0  1\n",
       "24   0   1   1   0   1   1   0   1  5\n",
       "25   1   1   1   0   0   0   1   0  4\n",
       "26   1   0   0   0   0   1   0   1  3\n",
       "27   1   0   0   0   0   0   0   1  2\n",
       "28   0   0   1   0   1   0   1   1  4\n",
       "29   1   1   0   0   0   1   0   0  3"
      ]
     },
     "execution_count": 3,
     "metadata": {},
     "output_type": "execute_result"
    }
   ],
   "source": [
    "df = pd.DataFrame(np.random.randint(0, 2, size=(30, 8)), columns=['x1', 'x2', 'x3', 'x4', 'x5', 'x6', 'x7', 'x8'])\n",
    "df['y'] = df.sum(axis=1)\n",
    "df"
   ]
  },
  {
   "cell_type": "markdown",
   "metadata": {},
   "source": [
    "## Adder with the Elman Recurrent Neural Network\n",
    "\n",
    "We'll build an Elman Recurrent Neural Network to predict the sum of 8 bits. We have one neuron that has two inputs : the input bit $x_{n}$ and the previous output $f_{t-1}$.\n",
    "\n",
    "As we want to have a linear model, the activation function will be the identity, and we don't need a bias.\n",
    "\n",
    "<img src=\"archi.png\">"
   ]
  },
  {
   "cell_type": "code",
   "execution_count": 4,
   "metadata": {},
   "outputs": [],
   "source": [
    "class RNNAdder():\n",
    "    \n",
    "    def __init__(self):\n",
    "        # Our two weights initialized randomly between -1 and 1\n",
    "        self.Vx = np.random.normal(1.0, 0.5)\n",
    "        self.Vf = np.random.normal(1.0, 0.5)\n",
    "        \n",
    "        # Learning rates\n",
    "        self.lr_x = 0.001\n",
    "        self.lr_f = 0.001\n",
    "        \n",
    "        # Number of features\n",
    "        self.T = 0\n",
    "        \n",
    "        # Neuron output matrix\n",
    "        self.f = None\n",
    "        \n",
    "        # Error\n",
    "        self.err = []\n",
    "        \n",
    "        # Historic of weights\n",
    "        self.hist_Vx = [self.Vx]\n",
    "        self.hist_Vf = [self.Vf]\n",
    "        \n",
    "        # Historic of gradients\n",
    "        self.hist_dVx = []\n",
    "        self.hist_dVf = []\n",
    "    \n",
    "    def forward(self, X):\n",
    "        self.f = np.zeros((X.shape[0], X.shape[1] + 1))\n",
    "        \n",
    "        for t in range(self.T):\n",
    "            self.f[:, t + 1] = self.Vf * self.f[:, t] + self.Vx * X[:, t]\n",
    "        \n",
    "        return self.f[:, -1]\n",
    "    \n",
    "    def compute_sse(self, y_hat, y):\n",
    "        sse = 0.5 * np.sum(np.square(y_hat - y))\n",
    "        return sse\n",
    "    \n",
    "    def compute_mae(self, y_hat, y):\n",
    "        mae = np.sum(np.absolute(y_hat - y)) / y_hat.shape[0]\n",
    "        return mae\n",
    "    \n",
    "    def backward(self, X, y, y_hat):\n",
    "        dVx = 0\n",
    "        dVf = 0\n",
    "        \n",
    "        for t in range(self.T):\n",
    "            dVx += np.sum((y_hat - y) * X[:, t]) * (self.Vf ** (self.T - t))\n",
    "            dVf += np.sum((y_hat - y) * self.f[:, t - 1]) * (self.Vf ** (self.T - t))\n",
    "            \n",
    "        self.Vx -= self.lr_x * dVx\n",
    "        self.Vf -= self.lr_f * dVf\n",
    "        \n",
    "        self.hist_Vx.append(self.Vx)\n",
    "        self.hist_Vf.append(self.Vf)\n",
    "        \n",
    "        self.hist_dVx.append(dVx)\n",
    "        self.hist_dVf.append(dVf)\n",
    "        \n",
    "    def plot_hist(self):\n",
    "        plt.plot(np.arange(len(self.err)), self.err)\n",
    "        plt.title('SSE')\n",
    "        plt.show()\n",
    "        plt.plot(np.arange(len(self.hist_Vx)), self.hist_Vx, label='Vx')\n",
    "        plt.plot(np.arange(len(self.hist_Vf)), self.hist_Vf, label='Vf')\n",
    "        plt.legend()\n",
    "        plt.title('Weights')\n",
    "        plt.show()\n",
    "        plt.plot(np.arange(len(self.hist_dVx)), self.hist_dVx, label='dVx')\n",
    "        plt.plot(np.arange(len(self.hist_dVf)), self.hist_dVf, label='dVf')\n",
    "        plt.legend()\n",
    "        plt.title('Gradients')\n",
    "        plt.show()\n",
    "    \n",
    "    def fit(self, X, y, nb_epoch=50):\n",
    "        self.T = X.shape[1]\n",
    "        \n",
    "        for k in range(nb_epoch):\n",
    "            y_hat = self.forward(X)\n",
    "\n",
    "            self.err.append(self.compute_sse(y_hat, y))\n",
    "\n",
    "            self.backward(X, y, y_hat)\n",
    "            \n",
    "        self.plot_hist()\n",
    "        \n",
    "    def predict(self, X, y):\n",
    "        # Compute prediction\n",
    "        y_hat = self.forward(X)\n",
    "        \n",
    "        # Compute Mean Absolute Error\n",
    "        mae = self.compute_mae(y_hat, y)\n",
    "        \n",
    "        # Print results\n",
    "        for i in range(X.shape[0]):\n",
    "            print('Seq:', X[i], '| y =', y[i], '| y_hat =', y_hat[i])\n",
    "        print('MAE =', mae)"
   ]
  },
  {
   "cell_type": "code",
   "execution_count": 5,
   "metadata": {},
   "outputs": [
    {
     "name": "stderr",
     "output_type": "stream",
     "text": [
      "C:\\Users\\Emmanuel\\Anaconda3\\lib\\site-packages\\ipykernel_launcher.py:33: RuntimeWarning: overflow encountered in multiply\n",
      "C:\\Users\\Emmanuel\\Anaconda3\\lib\\site-packages\\ipykernel_launcher.py:38: RuntimeWarning: overflow encountered in square\n",
      "C:\\Users\\Emmanuel\\Anaconda3\\lib\\site-packages\\ipykernel_launcher.py:50: RuntimeWarning: invalid value encountered in multiply\n",
      "C:\\Users\\Emmanuel\\Anaconda3\\lib\\site-packages\\ipykernel_launcher.py:50: RuntimeWarning: overflow encountered in double_scalars\n",
      "C:\\Users\\Emmanuel\\Anaconda3\\lib\\site-packages\\ipykernel_launcher.py:51: RuntimeWarning: overflow encountered in multiply\n",
      "C:\\Users\\Emmanuel\\Anaconda3\\lib\\site-packages\\ipykernel_launcher.py:51: RuntimeWarning: overflow encountered in double_scalars\n",
      "C:\\Users\\Emmanuel\\Anaconda3\\lib\\site-packages\\numpy\\core\\fromnumeric.py:83: RuntimeWarning: invalid value encountered in reduce\n",
      "  return ufunc.reduce(obj, axis, dtype, out, **passkwargs)\n",
      "C:\\Users\\Emmanuel\\Anaconda3\\lib\\site-packages\\ipykernel_launcher.py:51: RuntimeWarning: invalid value encountered in multiply\n"
     ]
    },
    {
     "data": {
      "image/png": "[encoded data removed]",
      "text/plain": [
       "<Figure size 432x288 with 1 Axes>"
      ]
     },
     "metadata": {
      "needs_background": "light"
     },
     "output_type": "display_data"
    },
    {
     "data": {
      "image/png": "[encoded data removed]",
      "text/plain": [
       "<Figure size 432x288 with 1 Axes>"
      ]
     },
     "metadata": {
      "needs_background": "light"
     },
     "output_type": "display_data"
    },
    {
     "data": {
      "image/png": "[encoded data removed]",
      "text/plain": [
       "<Figure size 432x288 with 1 Axes>"
      ]
     },
     "metadata": {
      "needs_background": "light"
     },
     "output_type": "display_data"
    }
   ],
   "source": [
    "X, y = df.drop(columns='y').values, df['y'].values\n",
    "train_X, test_X, train_y, test_y = X[:25], X[25:], y[:25], y[25:]\n",
    "\n",
    "model = RNNAdder()\n",
    "model.fit(train_X, train_y, nb_epoch=100)"
   ]
  },
  {
   "cell_type": "code",
   "execution_count": 6,
   "metadata": {},
   "outputs": [
    {
     "name": "stdout",
     "output_type": "stream",
     "text": [
      "Seq: [1 1 1 0 0 0 1 0] | y = 4 | y_hat = nan\n",
      "Seq: [1 0 0 0 0 1 0 1] | y = 3 | y_hat = nan\n",
      "Seq: [1 0 0 0 0 0 0 1] | y = 2 | y_hat = nan\n",
      "Seq: [0 0 1 0 1 0 1 1] | y = 4 | y_hat = nan\n",
      "Seq: [1 1 0 0 0 1 0 0] | y = 3 | y_hat = nan\n",
      "MAE = nan\n"
     ]
    }
   ],
   "source": [
    "model.predict(test_X, test_y)"
   ]
  },
  {
   "cell_type": "code",
   "execution_count": 7,
   "metadata": {},
   "outputs": [
    {
     "name": "stdout",
     "output_type": "stream",
     "text": [
      "[1.3654423331317023, -149.856185140254, -4.9196762471145326e+47, nan, nan, nan, nan, nan, nan, nan]\n",
      "[1.5130281042318319, -7.493189686646696, -3.868539971014403e+31, nan, nan, nan, nan, nan, nan, nan]\n"
     ]
    }
   ],
   "source": [
    "print(model.hist_Vf[:10])\n",
    "print(model.hist_Vx[:10])"
   ]
  },
  {
   "cell_type": "code",
   "execution_count": 8,
   "metadata": {},
   "outputs": [
    {
     "name": "stdout",
     "output_type": "stream",
     "text": [
      "[151221.6274733857, 4.919676247114532e+50, nan, nan, nan, nan, nan, nan, nan, nan]\n",
      "[9006.217790878529, 3.868539971014403e+34, nan, nan, nan, nan, nan, nan, nan, nan]\n"
     ]
    }
   ],
   "source": [
    "print(model.hist_dVf[:10])\n",
    "print(model.hist_dVx[:10])"
   ]
  },
  {
   "cell_type": "markdown",
   "metadata": {},
   "source": [
    "Looking at the gradients, we can observe the exploding gradients problem. To avoid it, let's try to implement two other backpropagation algorithm.\n",
    "## Resilient backpropagation"
   ]
  },
  {
   "cell_type": "code",
   "execution_count": 9,
   "metadata": {},
   "outputs": [],
   "source": [
    "class ResilientRNNAdder(RNNAdder):\n",
    "    \n",
    "    def __init__(self):\n",
    "        RNNAdder.__init__(self)\n",
    "        \n",
    "        # Delta weights\n",
    "        self.delta_x = 0.001\n",
    "        self.delta_f = 0.001\n",
    "        \n",
    "        # Learning rate limits\n",
    "        self.max_delta = 50\n",
    "        self.min_delta = 1e-6\n",
    "        \n",
    "        # Learning rate factors\n",
    "        self.eta_p = 1.2\n",
    "        self.eta_n = 0.5\n",
    "        \n",
    "    def find_lr_factor(self, grad, prev_grads):\n",
    "        # If the list is empty (first iteration)\n",
    "        if not prev_grads:\n",
    "            return 1\n",
    "        else:\n",
    "            if grad * prev_grads[-1] > 0:\n",
    "                return self.eta_p\n",
    "            else:\n",
    "                return self.eta_n\n",
    "        \n",
    "    def resilient_backward(self, X, y, y_hat):\n",
    "        dVx = 0\n",
    "        dVf = 0\n",
    "        \n",
    "        # Compute the same gradients\n",
    "        for t in range(self.T):\n",
    "            dVx += (np.sum((y_hat - y) * X[:, t]) * (self.Vf ** (self.T - t)))\n",
    "            dVf += (np.sum((y_hat - y) * self.f[:, t - 1]) * (self.Vf ** (self.T - t)))\n",
    "            \n",
    "        # Update the deltas\n",
    "        self.delta_x *= self.find_lr_factor(dVx, self.hist_dVx)\n",
    "        self.delta_f *= self.find_lr_factor(dVf, self.hist_dVf)\n",
    "        \n",
    "        # Limit deltas\n",
    "        if self.delta_x > self.max_delta:\n",
    "            self.delta_x = self.max_delta\n",
    "        elif self.delta_x < self.min_delta:\n",
    "            self.delta_x = self.min_delta\n",
    "        if self.delta_f > self.max_delta:\n",
    "            self.delta_f = self.max_delta\n",
    "        elif self.delta_f < self.min_delta:\n",
    "            self.delta_f = self.min_delta\n",
    "        \n",
    "        # Update the weights\n",
    "        self.Vx -= np.sign(dVx) * self.delta_x\n",
    "        self.Vf -= np.sign(dVf) * self.delta_f\n",
    "        \n",
    "        self.hist_Vx.append(self.Vx)\n",
    "        self.hist_Vf.append(self.Vf)\n",
    "        \n",
    "        self.hist_dVx.append(dVx)\n",
    "        self.hist_dVf.append(dVf)\n",
    "        \n",
    "    def fit(self, X, y, nb_epoch=50):\n",
    "        self.T = X.shape[1]\n",
    "        \n",
    "        for k in range(nb_epoch):\n",
    "            y_hat = self.forward(X)\n",
    "\n",
    "            self.err.append(self.compute_sse(y_hat, y))\n",
    "\n",
    "            self.resilient_backward(X, y, y_hat)\n",
    "            \n",
    "        self.plot_hist()"
   ]
  },
  {
   "cell_type": "code",
   "execution_count": 10,
   "metadata": {},
   "outputs": [
    {
     "data": {
      "image/png": "[encoded data removed]",
      "text/plain": [
       "<Figure size 432x288 with 1 Axes>"
      ]
     },
     "metadata": {
      "needs_background": "light"
     },
     "output_type": "display_data"
    },
    {
     "data": {
      "image/png": "[encoded data removed]",
      "text/plain": [
       "<Figure size 432x288 with 1 Axes>"
      ]
     },
     "metadata": {
      "needs_background": "light"
     },
     "output_type": "display_data"
    },
    {
     "data": {
      "image/png": "[encoded data removed]",
      "text/plain": [
       "<Figure size 432x288 with 1 Axes>"
      ]
     },
     "metadata": {
      "needs_background": "light"
     },
     "output_type": "display_data"
    }
   ],
   "source": [
    "model = ResilientRNNAdder()\n",
    "model.fit(train_X, train_y, nb_epoch=500)"
   ]
  },
  {
   "cell_type": "code",
   "execution_count": 11,
   "metadata": {},
   "outputs": [
    {
     "name": "stdout",
     "output_type": "stream",
     "text": [
      "[0.9999086140023079, 0.9999112398617438, 0.9999143908930669, 0.9999181721306546, 0.9999162815118607, 0.9999172815118608, 0.9999184815118608, 0.9999199215118608, 0.9999216495118608, 0.9999237231118608, 0.9999262114318609, 0.9999291974158608, 0.9999277044238608, 0.9999287044238608, 0.9999299044238609]\n",
      "[1.0003219248489648, 1.0003156227863186, 1.0003080603111432, 1.0002989853409325, 1.0002880953766797, 1.0002750274195764, 1.000281561398128, 1.0002782944088522, 1.0002743740217213, 1.000269669557164, 1.0002640241996954, 1.0002572497707332, 1.0002491204559785, 1.0002393652782728, 1.0002442428671257]\n"
     ]
    }
   ],
   "source": [
    "print(model.hist_Vf[-15:])\n",
    "print(model.hist_Vx[-15:])"
   ]
  },
  {
   "cell_type": "markdown",
   "metadata": {},
   "source": [
    "We can see that both gradients converge to **1**, which is a logical value to get a functionning adder.\n",
    "\n",
    "Now let's try to predict the testing set to verify the result."
   ]
  },
  {
   "cell_type": "code",
   "execution_count": 12,
   "metadata": {},
   "outputs": [
    {
     "name": "stdout",
     "output_type": "stream",
     "text": [
      "Seq: [1 1 1 0 0 0 1 0] | y = 4 | y_hat = 3.999645056284056\n",
      "Seq: [1 0 0 0 0 1 0 1] | y = 3 | y_hat = 3.0001018224419447\n",
      "Seq: [1 0 0 0 0 0 0 1] | y = 2 | y_hat = 1.9999978000531964\n",
      "Seq: [0 0 1 0 1 0 1 1] | y = 4 | y_hat = 4.000346021086028\n",
      "Seq: [1 1 0 0 0 1 0 0] | y = 3 | y_hat = 2.999681219975001\n",
      "MAE = 0.0002247534431438769\n"
     ]
    }
   ],
   "source": [
    "model.predict(test_X, test_y)"
   ]
  },
  {
   "cell_type": "markdown",
   "metadata": {},
   "source": [
    "## Gradient Clipping"
   ]
  },
  {
   "cell_type": "code",
   "execution_count": 13,
   "metadata": {},
   "outputs": [],
   "source": [
    "class ClippingRNNAdder(RNNAdder):\n",
    "    \n",
    "    def __init__(self):\n",
    "        RNNAdder.__init__(self)\n",
    "        \n",
    "        # Gradient threshold\n",
    "        self.thresh = 2.0\n",
    "    \n",
    "    def clip_grad(self, grad):\n",
    "        if grad > self.thresh or np.isnan(grad):\n",
    "            return self.thresh\n",
    "        elif grad < -self.thresh:\n",
    "            return -self.thresh\n",
    "        else:\n",
    "            return grad\n",
    "        \n",
    "    def clipping_backward(self, X, y, y_hat):\n",
    "        dVx = 0\n",
    "        dVf = 0\n",
    "        \n",
    "        # Compute the same gradients\n",
    "        for t in range(self.T):\n",
    "            dVx += (np.sum((y_hat - y) * X[:, t]) * (self.Vf ** (self.T - t)))\n",
    "            dVf += (np.sum((y_hat - y) * self.f[:, t - 1]) * (self.Vf ** (self.T - t)))\n",
    "        \n",
    "        # Clip the gradients\n",
    "        #print(dVx)\n",
    "        dVx = self.clip_grad(dVx)\n",
    "        #print(dVx)\n",
    "        dVf = self.clip_grad(dVf)\n",
    "        \n",
    "        # Update the weights\n",
    "        self.Vx -= self.lr_x * dVx\n",
    "        self.Vf -= self.lr_f * dVf\n",
    "        \n",
    "        self.hist_Vx.append(self.Vx)\n",
    "        self.hist_Vf.append(self.Vf)\n",
    "        \n",
    "        self.hist_dVx.append(dVx)\n",
    "        self.hist_dVf.append(dVf)\n",
    "        \n",
    "    def fit(self, X, y, nb_epoch=50):\n",
    "        self.T = X.shape[1]\n",
    "        \n",
    "        for k in range(nb_epoch):\n",
    "            y_hat = self.forward(X)\n",
    "\n",
    "            self.err.append(self.compute_sse(y_hat, y))\n",
    "\n",
    "            self.clipping_backward(X, y, y_hat)\n",
    "            \n",
    "        self.plot_hist()"
   ]
  },
  {
   "cell_type": "code",
   "execution_count": 14,
   "metadata": {},
   "outputs": [
    {
     "data": {
      "image/png": "[encoded data removed]",
      "text/plain": [
       "<Figure size 432x288 with 1 Axes>"
      ]
     },
     "metadata": {
      "needs_background": "light"
     },
     "output_type": "display_data"
    },
    {
     "data": {
      "image/png": "[encoded data removed]",
      "text/plain": [
       "<Figure size 432x288 with 1 Axes>"
      ]
     },
     "metadata": {
      "needs_background": "light"
     },
     "output_type": "display_data"
    },
    {
     "data": {
      "image/png": "[encoded data removed]",
      "text/plain": [
       "<Figure size 432x288 with 1 Axes>"
      ]
     },
     "metadata": {
      "needs_background": "light"
     },
     "output_type": "display_data"
    }
   ],
   "source": [
    "model = ClippingRNNAdder()\n",
    "model.fit(train_X, train_y, nb_epoch=5000)"
   ]
  },
  {
   "cell_type": "code",
   "execution_count": 15,
   "metadata": {},
   "outputs": [
    {
     "name": "stdout",
     "output_type": "stream",
     "text": [
      "Seq: [1 1 1 0 0 0 1 0] | y = 4 | y_hat = 3.906938674503694\n",
      "Seq: [1 0 0 0 0 1 0 1] | y = 3 | y_hat = 3.0070094300602115\n",
      "Seq: [1 0 0 0 0 0 0 1] | y = 2 | y_hat = 1.9908814498469147\n",
      "Seq: [0 0 1 0 1 0 1 1] | y = 4 | y_hat = 4.051306742139911\n",
      "Seq: [1 1 0 0 0 1 0 0] | y = 3 | y_hat = 2.9193751276288658\n",
      "MAE = 0.04822418404412954\n"
     ]
    }
   ],
   "source": [
    "model.predict(test_X, test_y)"
   ]
  },
  {
   "cell_type": "code",
   "execution_count": null,
   "metadata": {},
   "outputs": [],
   "source": []
  }
 ],
 "metadata": {
  "kernelspec": {
   "display_name": "Python 3",
   "language": "python",
   "name": "python3"
  },
  "language_info": {
   "codemirror_mode": {
    "name": "ipython",
    "version": 3
   },
   "file_extension": ".py",
   "mimetype": "text/x-python",
   "name": "python",
   "nbconvert_exporter": "python",
   "pygments_lexer": "ipython3",
   "version": "3.7.1"
  }
 },
 "nbformat": 4,
 "nbformat_minor": 2
}
